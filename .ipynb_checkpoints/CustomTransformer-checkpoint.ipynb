{
 "cells": [
  {
   "cell_type": "code",
   "execution_count": 1,
   "id": "100e73f0-7234-45fb-8894-947cb9c8345d",
   "metadata": {},
   "outputs": [],
   "source": [
    "#Custom Transformer:\n",
    "def __init__(self):\n",
    "    self.scaler = StandardScaler()"
   ]
  },
  {
   "cell_type": "code",
   "execution_count": 2,
   "id": "4b674677-a2e7-4a36-adbc-6b3a3309b92c",
   "metadata": {},
   "outputs": [],
   "source": [
    "def fit(self,X,y=None):\n",
    "    self.scaler.fit(X)\n",
    "    return self\n",
    "\n",
    "def transform(self,X,y=None):\n",
    "    return self.scaler.transform(X)"
   ]
  },
  {
   "cell_type": "code",
   "execution_count": null,
   "id": "1af3e820-4149-472a-b01f-a29a9e78f688",
   "metadata": {},
   "outputs": [],
   "source": []
  }
 ],
 "metadata": {
  "kernelspec": {
   "display_name": "Python 3 (ipykernel)",
   "language": "python",
   "name": "python3"
  },
  "language_info": {
   "codemirror_mode": {
    "name": "ipython",
    "version": 3
   },
   "file_extension": ".py",
   "mimetype": "text/x-python",
   "name": "python",
   "nbconvert_exporter": "python",
   "pygments_lexer": "ipython3",
   "version": "3.10.9"
  }
 },
 "nbformat": 4,
 "nbformat_minor": 5
}
