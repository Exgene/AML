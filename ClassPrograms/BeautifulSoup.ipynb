{
 "cells": [
  {
   "cell_type": "code",
   "execution_count": 1,
   "metadata": {},
   "outputs": [],
   "source": [
    "hrml = '''<html>\n",
    "<body>\n",
    "<div class='my class'>\n",
    "<h1> Welcome to BeautifulSoup </h1>\n",
    "<p> THis is an exmaple paragraph.</p>\n",
    "<ul>\n",
    "    <li>Item1</li>\n",
    "    <li>Item2</li>\n",
    "    <li>Item3</li>\n",
    "</ul>\n",
    "</div>\n",
    "</body>\n",
    "</html>\n",
    "'''\n"
   ]
  },
  {
   "cell_type": "code",
   "execution_count": 2,
   "metadata": {},
   "outputs": [],
   "source": [
    "from bs4 import BeautifulSoup\n",
    "soup = BeautifulSoup(hrml,'html.parser')"
   ]
  },
  {
   "cell_type": "code",
   "execution_count": 3,
   "metadata": {},
   "outputs": [
    {
     "name": "stdout",
     "output_type": "stream",
     "text": [
      "<div class=\"my class\">\n",
      "<h1> Welcome to BeautifulSoup </h1>\n",
      "<p> THis is an exmaple paragraph.</p>\n",
      "<ul>\n",
      "<li>Item1</li>\n",
      "<li>Item2</li>\n",
      "<li>Item3</li>\n",
      "</ul>\n",
      "</div>\n"
     ]
    }
   ],
   "source": [
    "#Accessing the parent elements\n",
    "h1 = soup.h1 #h1 = soup.find('h1')\n",
    "parent_div = h1.parent\n",
    "print(parent_div)"
   ]
  },
  {
   "cell_type": "code",
   "execution_count": 9,
   "metadata": {},
   "outputs": [
    {
     "data": {
      "text/plain": [
       "<ul>\n",
       "<li>Item1</li>\n",
       "<li>Item2</li>\n",
       "<li>Item3</li>\n",
       "</ul>"
      ]
     },
     "execution_count": 9,
     "metadata": {},
     "output_type": "execute_result"
    }
   ],
   "source": [
    "para = soup.p\n",
    "next_sibling = para.find_next_sibling()\n",
    "next_sibling"
   ]
  },
  {
   "cell_type": "code",
   "execution_count": 12,
   "metadata": {},
   "outputs": [
    {
     "data": {
      "text/plain": [
       "<h1> Welcome to BeautifulSoup </h1>"
      ]
     },
     "execution_count": 12,
     "metadata": {},
     "output_type": "execute_result"
    }
   ],
   "source": [
    "prev_sibling = para.find_previous_sibling()\n",
    "prev_sibling"
   ]
  },
  {
   "cell_type": "code",
   "execution_count": 17,
   "metadata": {},
   "outputs": [
    {
     "name": "stdout",
     "output_type": "stream",
     "text": [
      "\n",
      "\n",
      "<h1> Welcome to BeautifulSoup </h1>\n",
      "\n",
      "\n",
      "<p> THis is an exmaple paragraph.</p>\n",
      "\n",
      "\n",
      "<ul>\n",
      "<li>Item1</li>\n",
      "<li>Item2</li>\n",
      "<li>Item3</li>\n",
      "</ul>\n",
      "\n",
      "\n"
     ]
    }
   ],
   "source": [
    "div = soup.div\n",
    "children = div.children\n",
    "for i in children:\n",
    "    print(i)"
   ]
  },
  {
   "cell_type": "code",
   "execution_count": 18,
   "metadata": {},
   "outputs": [
    {
     "data": {
      "text/plain": [
       "[]"
      ]
     },
     "execution_count": 18,
     "metadata": {},
     "output_type": "execute_result"
    }
   ],
   "source": [
    "elements = soup.find_all('div',class_='my_class')\n",
    "elements"
   ]
  },
  {
   "cell_type": "code",
   "execution_count": null,
   "metadata": {},
   "outputs": [],
   "source": []
  }
 ],
 "metadata": {
  "kernelspec": {
   "display_name": "Python 3",
   "language": "python",
   "name": "python3"
  },
  "language_info": {
   "codemirror_mode": {
    "name": "ipython",
    "version": 3
   },
   "file_extension": ".py",
   "mimetype": "text/x-python",
   "name": "python",
   "nbconvert_exporter": "python",
   "pygments_lexer": "ipython3",
   "version": "3.11.1"
  },
  "orig_nbformat": 4
 },
 "nbformat": 4,
 "nbformat_minor": 2
}
