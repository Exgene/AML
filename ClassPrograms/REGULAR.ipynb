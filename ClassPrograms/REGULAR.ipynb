{
 "cells": [
  {
   "cell_type": "code",
   "execution_count": 1,
   "metadata": {},
   "outputs": [
    {
     "name": "stdout",
     "output_type": "stream",
     "text": [
      "Google\n"
     ]
    }
   ],
   "source": [
    "import re\n",
    "import requests\n",
    "\n",
    "html_content='''\n",
    "<html>\n",
    "<head>\n",
    "</head>\n",
    "<body>\n",
    "    <p>aaaaab bbbbbb aaabbb</p>\n",
    "    <p>aabbb abab aaaabbb aabbbb abb</p>\n",
    "</body>\n",
    "</html>\n",
    "'''\n",
    "\n",
    "url = 'https://google.com/'\n",
    "res = requests.get(url)\n",
    "\n",
    "pattern1 = r\"<p> a{2,3}b{2,4} </p>\"\n",
    "pattern = r\"<title>(.*)</title>\"\n",
    "matches = re.findall(pattern,res.text)\n",
    "\n",
    "for match in matches:\n",
    "    print(match)"
   ]
  },
  {
   "cell_type": "code",
   "execution_count": null,
   "metadata": {},
   "outputs": [],
   "source": []
  }
 ],
 "metadata": {
  "kernelspec": {
   "display_name": "Python 3",
   "language": "python",
   "name": "python3"
  },
  "language_info": {
   "codemirror_mode": {
    "name": "ipython",
    "version": 3
   },
   "file_extension": ".py",
   "mimetype": "text/x-python",
   "name": "python",
   "nbconvert_exporter": "python",
   "pygments_lexer": "ipython3",
   "version": "3.11.4"
  },
  "orig_nbformat": 4
 },
 "nbformat": 4,
 "nbformat_minor": 2
}
