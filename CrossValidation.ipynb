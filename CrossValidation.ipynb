{
 "cells": [
  {
   "cell_type": "code",
   "execution_count": 1,
   "id": "a643d766-4d16-4c54-afba-d298f8d5458d",
   "metadata": {},
   "outputs": [],
   "source": [
    "from sklearn.model_selection import cross_val_score\n",
    "from sklearn.tree import DecisionTreeClassifier\n",
    "from sklearn.datasets import load_iris"
   ]
  },
  {
   "cell_type": "code",
   "execution_count": 2,
   "id": "3bbb12e7-7ab5-419d-a3a4-22159969685c",
   "metadata": {},
   "outputs": [],
   "source": [
    "iris = load_iris()\n",
    "x = iris.data\n",
    "y = iris.target"
   ]
  },
  {
   "cell_type": "code",
   "execution_count": 3,
   "id": "4b1fab80-55ab-4533-97bd-7992bb2dc9d5",
   "metadata": {},
   "outputs": [],
   "source": [
    "clf = DecisionTreeClassifier()"
   ]
  },
  {
   "cell_type": "code",
   "execution_count": 4,
   "id": "a429e718-cc87-4e8d-abb3-c0ab0eb28a58",
   "metadata": {},
   "outputs": [],
   "source": [
    "#5 fold cross validation"
   ]
  },
  {
   "cell_type": "code",
   "execution_count": 5,
   "id": "b1e6f20f-409a-455d-88b0-fcb6989d5fe6",
   "metadata": {},
   "outputs": [],
   "source": [
    "scores = cross_val_score(clf, x,y,cv=5,n_jobs=-1)\n",
    "mean_acc = scores.mean()"
   ]
  },
  {
   "cell_type": "code",
   "execution_count": 6,
   "id": "679e8259-f254-4276-8e23-890808925897",
   "metadata": {},
   "outputs": [
    {
     "data": {
      "text/plain": [
       "0.9666666666666668"
      ]
     },
     "execution_count": 6,
     "metadata": {},
     "output_type": "execute_result"
    }
   ],
   "source": [
    "mean_acc"
   ]
  },
  {
   "cell_type": "code",
   "execution_count": 7,
   "id": "ce2e46b6-5416-444a-832a-283662adddba",
   "metadata": {},
   "outputs": [],
   "source": [
    "#10 fold\n",
    "scores2 = cross_val_score(clf, x,y,cv=10,n_jobs=-1)\n",
    "mean_acc2 = scores2.mean()"
   ]
  },
  {
   "cell_type": "code",
   "execution_count": 8,
   "id": "d0142a7c-b411-4ab0-90b5-a98dfef86ce7",
   "metadata": {},
   "outputs": [
    {
     "data": {
      "text/plain": [
       "0.9533333333333334"
      ]
     },
     "execution_count": 8,
     "metadata": {},
     "output_type": "execute_result"
    }
   ],
   "source": [
    "mean_acc2"
   ]
  },
  {
   "cell_type": "code",
   "execution_count": null,
   "id": "a1c81609-312a-4d70-b64e-b8bbc53a4b0b",
   "metadata": {},
   "outputs": [],
   "source": [
    " "
   ]
  }
 ],
 "metadata": {
  "kernelspec": {
   "display_name": "Python 3 (ipykernel)",
   "language": "python",
   "name": "python3"
  },
  "language_info": {
   "codemirror_mode": {
    "name": "ipython",
    "version": 3
   },
   "file_extension": ".py",
   "mimetype": "text/x-python",
   "name": "python",
   "nbconvert_exporter": "python",
   "pygments_lexer": "ipython3",
   "version": "3.11.1"
  }
 },
 "nbformat": 4,
 "nbformat_minor": 5
}
