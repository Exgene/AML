{
 "cells": [
  {
   "cell_type": "code",
   "execution_count": 10,
   "id": "9e6eae60",
   "metadata": {},
   "outputs": [],
   "source": [
    "from keras.models import Sequential\n",
    "from keras.layers import Conv2DTranspose\n",
    "import numpy as np"
   ]
  },
  {
   "cell_type": "code",
   "execution_count": 11,
   "id": "bfa6dc71",
   "metadata": {},
   "outputs": [],
   "source": [
    "# Upscaling factor\n",
    "upscale_factor = 2"
   ]
  },
  {
   "cell_type": "code",
   "execution_count": 12,
   "id": "80e386f0",
   "metadata": {},
   "outputs": [],
   "source": [
    "# Input noise vector\n",
    "noise = np.random.normal(size=(1, 10, 10, 64))  # Example: 10x10x64 feature map"
   ]
  },
  {
   "cell_type": "code",
   "execution_count": 13,
   "id": "a621e6c4",
   "metadata": {},
   "outputs": [],
   "source": [
    "# Create a Sequential model\n",
    "model = Sequential()"
   ]
  },
  {
   "cell_type": "code",
   "execution_count": 14,
   "id": "28c48dd3",
   "metadata": {},
   "outputs": [],
   "source": [
    "# Add an inverse convolution (transposed convolution) layer\n",
    "model.add(Conv2DTranspose(\n",
    "    filters=32,  # Number of output channels\n",
    "    kernel_size=3,  # Convolutional kernel size\n",
    "    strides=(upscale_factor, upscale_factor),  # Upsampling factor\n",
    "    padding='same',  # Padding to maintain spatial dimensions\n",
    "    activation='relu'  # Activation function\n",
    "))"
   ]
  },
  {
   "cell_type": "code",
   "execution_count": 15,
   "id": "44b1654c",
   "metadata": {},
   "outputs": [
    {
     "name": "stdout",
     "output_type": "stream",
     "text": [
      "1/1 [==============================] - 2s 2s/step\n",
      "Input shape: (1, 10, 10, 64)\n",
      "Output shape: (1, 20, 20, 32)\n"
     ]
    }
   ],
   "source": [
    "# Compile the model (not necessary for this example)\n",
    "model.compile(optimizer='adam', loss='mse')\n",
    "\n",
    "# Upscale the input noise\n",
    "upscaled_noise = model.predict(noise)\n",
    "\n",
    "# Display shapes before and after upscaling\n",
    "print(\"Input shape:\", noise.shape)\n",
    "print(\"Output shape:\", upscaled_noise.shape)"
   ]
  },
  {
   "cell_type": "code",
   "execution_count": null,
   "id": "6a9ce29b",
   "metadata": {},
   "outputs": [],
   "source": []
  }
 ],
 "metadata": {
  "kernelspec": {
   "display_name": "Python 3 (ipykernel)",
   "language": "python",
   "name": "python3"
  },
  "language_info": {
   "codemirror_mode": {
    "name": "ipython",
    "version": 3
   },
   "file_extension": ".py",
   "mimetype": "text/x-python",
   "name": "python",
   "nbconvert_exporter": "python",
   "pygments_lexer": "ipython3",
   "version": "3.11.5"
  }
 },
 "nbformat": 4,
 "nbformat_minor": 5
}
