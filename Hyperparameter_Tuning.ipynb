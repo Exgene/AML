{
 "cells": [
  {
   "cell_type": "code",
   "execution_count": 1,
   "id": "691ab4df-da2d-4552-ad61-6ed7ce112736",
   "metadata": {},
   "outputs": [
    {
     "name": "stdout",
     "output_type": "stream",
     "text": [
      "Collecting jupyterlab_github\n",
      "  Downloading jupyterlab_github-3.0.1-py3-none-any.whl (113 kB)\n",
      "     ------------------------------------ 113.5/113.5 kB 330.9 kB/s eta 0:00:00\n",
      "Requirement already satisfied: jupyterlab~=3.0 in c:\\users\\cocka\\anaconda3\\lib\\site-packages (from jupyterlab_github) (3.5.3)\n",
      "Requirement already satisfied: jupyter-server<3,>=1.16.0 in c:\\users\\cocka\\anaconda3\\lib\\site-packages (from jupyterlab~=3.0->jupyterlab_github) (1.23.4)\n",
      "Requirement already satisfied: ipython in c:\\users\\cocka\\anaconda3\\lib\\site-packages (from jupyterlab~=3.0->jupyterlab_github) (8.10.0)\n",
      "Requirement already satisfied: nbclassic in c:\\users\\cocka\\anaconda3\\lib\\site-packages (from jupyterlab~=3.0->jupyterlab_github) (0.5.2)\n",
      "Requirement already satisfied: tornado>=6.1.0 in c:\\users\\cocka\\anaconda3\\lib\\site-packages (from jupyterlab~=3.0->jupyterlab_github) (6.1)\n",
      "Requirement already satisfied: notebook<7 in c:\\users\\cocka\\anaconda3\\lib\\site-packages (from jupyterlab~=3.0->jupyterlab_github) (6.5.2)\n",
      "Requirement already satisfied: jinja2>=2.1 in c:\\users\\cocka\\anaconda3\\lib\\site-packages (from jupyterlab~=3.0->jupyterlab_github) (3.1.2)\n",
      "Requirement already satisfied: tomli in c:\\users\\cocka\\anaconda3\\lib\\site-packages (from jupyterlab~=3.0->jupyterlab_github) (2.0.1)\n",
      "Requirement already satisfied: jupyter-core in c:\\users\\cocka\\anaconda3\\lib\\site-packages (from jupyterlab~=3.0->jupyterlab_github) (5.2.0)\n",
      "Requirement already satisfied: packaging in c:\\users\\cocka\\anaconda3\\lib\\site-packages (from jupyterlab~=3.0->jupyterlab_github) (22.0)\n",
      "Requirement already satisfied: jupyterlab-server~=2.10 in c:\\users\\cocka\\anaconda3\\lib\\site-packages (from jupyterlab~=3.0->jupyterlab_github) (2.19.0)\n",
      "Requirement already satisfied: MarkupSafe>=2.0 in c:\\users\\cocka\\anaconda3\\lib\\site-packages (from jinja2>=2.1->jupyterlab~=3.0->jupyterlab_github) (2.1.1)\n",
      "Requirement already satisfied: terminado>=0.8.3 in c:\\users\\cocka\\anaconda3\\lib\\site-packages (from jupyter-server<3,>=1.16.0->jupyterlab~=3.0->jupyterlab_github) (0.17.1)\n",
      "Requirement already satisfied: anyio<4,>=3.1.0 in c:\\users\\cocka\\anaconda3\\lib\\site-packages (from jupyter-server<3,>=1.16.0->jupyterlab~=3.0->jupyterlab_github) (3.5.0)\n",
      "Requirement already satisfied: websocket-client in c:\\users\\cocka\\anaconda3\\lib\\site-packages (from jupyter-server<3,>=1.16.0->jupyterlab~=3.0->jupyterlab_github) (0.58.0)\n",
      "Requirement already satisfied: argon2-cffi in c:\\users\\cocka\\anaconda3\\lib\\site-packages (from jupyter-server<3,>=1.16.0->jupyterlab~=3.0->jupyterlab_github) (21.3.0)\n",
      "Requirement already satisfied: jupyter-client>=6.1.12 in c:\\users\\cocka\\anaconda3\\lib\\site-packages (from jupyter-server<3,>=1.16.0->jupyterlab~=3.0->jupyterlab_github) (7.3.4)\n",
      "Requirement already satisfied: traitlets>=5.1 in c:\\users\\cocka\\anaconda3\\lib\\site-packages (from jupyter-server<3,>=1.16.0->jupyterlab~=3.0->jupyterlab_github) (5.7.1)\n",
      "Requirement already satisfied: nbconvert>=6.4.4 in c:\\users\\cocka\\anaconda3\\lib\\site-packages (from jupyter-server<3,>=1.16.0->jupyterlab~=3.0->jupyterlab_github) (6.5.4)\n",
      "Requirement already satisfied: pywinpty in c:\\users\\cocka\\anaconda3\\lib\\site-packages (from jupyter-server<3,>=1.16.0->jupyterlab~=3.0->jupyterlab_github) (2.0.10)\n",
      "Requirement already satisfied: prometheus-client in c:\\users\\cocka\\anaconda3\\lib\\site-packages (from jupyter-server<3,>=1.16.0->jupyterlab~=3.0->jupyterlab_github) (0.14.1)\n",
      "Requirement already satisfied: nbformat>=5.2.0 in c:\\users\\cocka\\anaconda3\\lib\\site-packages (from jupyter-server<3,>=1.16.0->jupyterlab~=3.0->jupyterlab_github) (5.7.0)\n",
      "Requirement already satisfied: Send2Trash in c:\\users\\cocka\\anaconda3\\lib\\site-packages (from jupyter-server<3,>=1.16.0->jupyterlab~=3.0->jupyterlab_github) (1.8.0)\n",
      "Requirement already satisfied: pyzmq>=17 in c:\\users\\cocka\\anaconda3\\lib\\site-packages (from jupyter-server<3,>=1.16.0->jupyterlab~=3.0->jupyterlab_github) (23.2.0)\n",
      "Requirement already satisfied: pywin32>=1.0 in c:\\users\\cocka\\anaconda3\\lib\\site-packages (from jupyter-core->jupyterlab~=3.0->jupyterlab_github) (305.1)\n",
      "Requirement already satisfied: platformdirs>=2.5 in c:\\users\\cocka\\anaconda3\\lib\\site-packages (from jupyter-core->jupyterlab~=3.0->jupyterlab_github) (2.5.2)\n",
      "Requirement already satisfied: jsonschema>=4.17.3 in c:\\users\\cocka\\anaconda3\\lib\\site-packages (from jupyterlab-server~=2.10->jupyterlab~=3.0->jupyterlab_github) (4.17.3)\n",
      "Requirement already satisfied: requests>=2.28 in c:\\users\\cocka\\anaconda3\\lib\\site-packages (from jupyterlab-server~=2.10->jupyterlab~=3.0->jupyterlab_github) (2.28.1)\n",
      "Requirement already satisfied: json5>=0.9.0 in c:\\users\\cocka\\anaconda3\\lib\\site-packages (from jupyterlab-server~=2.10->jupyterlab~=3.0->jupyterlab_github) (0.9.6)\n",
      "Requirement already satisfied: babel>=2.10 in c:\\users\\cocka\\anaconda3\\lib\\site-packages (from jupyterlab-server~=2.10->jupyterlab~=3.0->jupyterlab_github) (2.11.0)\n",
      "Requirement already satisfied: ipython-genutils in c:\\users\\cocka\\anaconda3\\lib\\site-packages (from notebook<7->jupyterlab~=3.0->jupyterlab_github) (0.2.0)\n",
      "Requirement already satisfied: nest-asyncio>=1.5 in c:\\users\\cocka\\anaconda3\\lib\\site-packages (from notebook<7->jupyterlab~=3.0->jupyterlab_github) (1.5.6)\n",
      "Requirement already satisfied: ipykernel in c:\\users\\cocka\\anaconda3\\lib\\site-packages (from notebook<7->jupyterlab~=3.0->jupyterlab_github) (6.19.2)\n",
      "Requirement already satisfied: notebook-shim>=0.1.0 in c:\\users\\cocka\\anaconda3\\lib\\site-packages (from nbclassic->jupyterlab~=3.0->jupyterlab_github) (0.2.2)\n",
      "Requirement already satisfied: decorator in c:\\users\\cocka\\anaconda3\\lib\\site-packages (from ipython->jupyterlab~=3.0->jupyterlab_github) (5.1.1)\n",
      "Requirement already satisfied: pickleshare in c:\\users\\cocka\\anaconda3\\lib\\site-packages (from ipython->jupyterlab~=3.0->jupyterlab_github) (0.7.5)\n",
      "Requirement already satisfied: matplotlib-inline in c:\\users\\cocka\\anaconda3\\lib\\site-packages (from ipython->jupyterlab~=3.0->jupyterlab_github) (0.1.6)\n",
      "Requirement already satisfied: pygments>=2.4.0 in c:\\users\\cocka\\anaconda3\\lib\\site-packages (from ipython->jupyterlab~=3.0->jupyterlab_github) (2.11.2)\n",
      "Requirement already satisfied: colorama in c:\\users\\cocka\\anaconda3\\lib\\site-packages (from ipython->jupyterlab~=3.0->jupyterlab_github) (0.4.6)\n",
      "Requirement already satisfied: jedi>=0.16 in c:\\users\\cocka\\anaconda3\\lib\\site-packages (from ipython->jupyterlab~=3.0->jupyterlab_github) (0.18.1)\n",
      "Requirement already satisfied: backcall in c:\\users\\cocka\\anaconda3\\lib\\site-packages (from ipython->jupyterlab~=3.0->jupyterlab_github) (0.2.0)\n",
      "Requirement already satisfied: prompt-toolkit<3.1.0,>=3.0.30 in c:\\users\\cocka\\anaconda3\\lib\\site-packages (from ipython->jupyterlab~=3.0->jupyterlab_github) (3.0.36)\n",
      "Requirement already satisfied: stack-data in c:\\users\\cocka\\anaconda3\\lib\\site-packages (from ipython->jupyterlab~=3.0->jupyterlab_github) (0.2.0)\n",
      "Requirement already satisfied: sniffio>=1.1 in c:\\users\\cocka\\anaconda3\\lib\\site-packages (from anyio<4,>=3.1.0->jupyter-server<3,>=1.16.0->jupyterlab~=3.0->jupyterlab_github) (1.2.0)\n",
      "Requirement already satisfied: idna>=2.8 in c:\\users\\cocka\\anaconda3\\lib\\site-packages (from anyio<4,>=3.1.0->jupyter-server<3,>=1.16.0->jupyterlab~=3.0->jupyterlab_github) (3.4)\n",
      "Requirement already satisfied: pytz>=2015.7 in c:\\users\\cocka\\anaconda3\\lib\\site-packages (from babel>=2.10->jupyterlab-server~=2.10->jupyterlab~=3.0->jupyterlab_github) (2022.7)\n",
      "Requirement already satisfied: parso<0.9.0,>=0.8.0 in c:\\users\\cocka\\anaconda3\\lib\\site-packages (from jedi>=0.16->ipython->jupyterlab~=3.0->jupyterlab_github) (0.8.3)\n",
      "Requirement already satisfied: attrs>=17.4.0 in c:\\users\\cocka\\anaconda3\\lib\\site-packages (from jsonschema>=4.17.3->jupyterlab-server~=2.10->jupyterlab~=3.0->jupyterlab_github) (22.1.0)\n",
      "Requirement already satisfied: pyrsistent!=0.17.0,!=0.17.1,!=0.17.2,>=0.14.0 in c:\\users\\cocka\\anaconda3\\lib\\site-packages (from jsonschema>=4.17.3->jupyterlab-server~=2.10->jupyterlab~=3.0->jupyterlab_github) (0.18.0)\n",
      "Requirement already satisfied: entrypoints in c:\\users\\cocka\\anaconda3\\lib\\site-packages (from jupyter-client>=6.1.12->jupyter-server<3,>=1.16.0->jupyterlab~=3.0->jupyterlab_github) (0.4)\n",
      "Requirement already satisfied: python-dateutil>=2.8.2 in c:\\users\\cocka\\anaconda3\\lib\\site-packages (from jupyter-client>=6.1.12->jupyter-server<3,>=1.16.0->jupyterlab~=3.0->jupyterlab_github) (2.8.2)\n",
      "Requirement already satisfied: defusedxml in c:\\users\\cocka\\anaconda3\\lib\\site-packages (from nbconvert>=6.4.4->jupyter-server<3,>=1.16.0->jupyterlab~=3.0->jupyterlab_github) (0.7.1)\n",
      "Requirement already satisfied: pandocfilters>=1.4.1 in c:\\users\\cocka\\anaconda3\\lib\\site-packages (from nbconvert>=6.4.4->jupyter-server<3,>=1.16.0->jupyterlab~=3.0->jupyterlab_github) (1.5.0)\n",
      "Requirement already satisfied: beautifulsoup4 in c:\\users\\cocka\\anaconda3\\lib\\site-packages (from nbconvert>=6.4.4->jupyter-server<3,>=1.16.0->jupyterlab~=3.0->jupyterlab_github) (4.11.1)\n",
      "Requirement already satisfied: tinycss2 in c:\\users\\cocka\\anaconda3\\lib\\site-packages (from nbconvert>=6.4.4->jupyter-server<3,>=1.16.0->jupyterlab~=3.0->jupyterlab_github) (1.2.1)\n",
      "Requirement already satisfied: bleach in c:\\users\\cocka\\anaconda3\\lib\\site-packages (from nbconvert>=6.4.4->jupyter-server<3,>=1.16.0->jupyterlab~=3.0->jupyterlab_github) (4.1.0)\n",
      "Requirement already satisfied: jupyterlab-pygments in c:\\users\\cocka\\anaconda3\\lib\\site-packages (from nbconvert>=6.4.4->jupyter-server<3,>=1.16.0->jupyterlab~=3.0->jupyterlab_github) (0.1.2)\n",
      "Requirement already satisfied: nbclient>=0.5.0 in c:\\users\\cocka\\anaconda3\\lib\\site-packages (from nbconvert>=6.4.4->jupyter-server<3,>=1.16.0->jupyterlab~=3.0->jupyterlab_github) (0.5.13)\n",
      "Requirement already satisfied: mistune<2,>=0.8.1 in c:\\users\\cocka\\anaconda3\\lib\\site-packages (from nbconvert>=6.4.4->jupyter-server<3,>=1.16.0->jupyterlab~=3.0->jupyterlab_github) (0.8.4)\n",
      "Requirement already satisfied: lxml in c:\\users\\cocka\\anaconda3\\lib\\site-packages (from nbconvert>=6.4.4->jupyter-server<3,>=1.16.0->jupyterlab~=3.0->jupyterlab_github) (4.9.1)\n",
      "Requirement already satisfied: fastjsonschema in c:\\users\\cocka\\anaconda3\\lib\\site-packages (from nbformat>=5.2.0->jupyter-server<3,>=1.16.0->jupyterlab~=3.0->jupyterlab_github) (2.16.2)\n",
      "Requirement already satisfied: wcwidth in c:\\users\\cocka\\anaconda3\\lib\\site-packages (from prompt-toolkit<3.1.0,>=3.0.30->ipython->jupyterlab~=3.0->jupyterlab_github) (0.2.5)\n",
      "Requirement already satisfied: certifi>=2017.4.17 in c:\\users\\cocka\\anaconda3\\lib\\site-packages (from requests>=2.28->jupyterlab-server~=2.10->jupyterlab~=3.0->jupyterlab_github) (2022.12.7)\n",
      "Requirement already satisfied: urllib3<1.27,>=1.21.1 in c:\\users\\cocka\\anaconda3\\lib\\site-packages (from requests>=2.28->jupyterlab-server~=2.10->jupyterlab~=3.0->jupyterlab_github) (1.26.14)\n",
      "Requirement already satisfied: charset-normalizer<3,>=2 in c:\\users\\cocka\\anaconda3\\lib\\site-packages (from requests>=2.28->jupyterlab-server~=2.10->jupyterlab~=3.0->jupyterlab_github) (2.0.4)\n",
      "Requirement already satisfied: argon2-cffi-bindings in c:\\users\\cocka\\anaconda3\\lib\\site-packages (from argon2-cffi->jupyter-server<3,>=1.16.0->jupyterlab~=3.0->jupyterlab_github) (21.2.0)\n",
      "Requirement already satisfied: debugpy>=1.0 in c:\\users\\cocka\\anaconda3\\lib\\site-packages (from ipykernel->notebook<7->jupyterlab~=3.0->jupyterlab_github) (1.5.1)\n",
      "Requirement already satisfied: psutil in c:\\users\\cocka\\anaconda3\\lib\\site-packages (from ipykernel->notebook<7->jupyterlab~=3.0->jupyterlab_github) (5.9.0)\n",
      "Requirement already satisfied: comm>=0.1.1 in c:\\users\\cocka\\anaconda3\\lib\\site-packages (from ipykernel->notebook<7->jupyterlab~=3.0->jupyterlab_github) (0.1.2)\n",
      "Requirement already satisfied: pure-eval in c:\\users\\cocka\\anaconda3\\lib\\site-packages (from stack-data->ipython->jupyterlab~=3.0->jupyterlab_github) (0.2.2)\n",
      "Requirement already satisfied: asttokens in c:\\users\\cocka\\anaconda3\\lib\\site-packages (from stack-data->ipython->jupyterlab~=3.0->jupyterlab_github) (2.0.5)\n",
      "Requirement already satisfied: executing in c:\\users\\cocka\\anaconda3\\lib\\site-packages (from stack-data->ipython->jupyterlab~=3.0->jupyterlab_github) (0.8.3)\n",
      "Requirement already satisfied: six in c:\\users\\cocka\\anaconda3\\lib\\site-packages (from websocket-client->jupyter-server<3,>=1.16.0->jupyterlab~=3.0->jupyterlab_github) (1.16.0)\n",
      "Requirement already satisfied: cffi>=1.0.1 in c:\\users\\cocka\\anaconda3\\lib\\site-packages (from argon2-cffi-bindings->argon2-cffi->jupyter-server<3,>=1.16.0->jupyterlab~=3.0->jupyterlab_github) (1.15.1)\n",
      "Requirement already satisfied: soupsieve>1.2 in c:\\users\\cocka\\anaconda3\\lib\\site-packages (from beautifulsoup4->nbconvert>=6.4.4->jupyter-server<3,>=1.16.0->jupyterlab~=3.0->jupyterlab_github) (2.3.2.post1)\n",
      "Requirement already satisfied: webencodings in c:\\users\\cocka\\anaconda3\\lib\\site-packages (from bleach->nbconvert>=6.4.4->jupyter-server<3,>=1.16.0->jupyterlab~=3.0->jupyterlab_github) (0.5.1)\n",
      "Requirement already satisfied: pycparser in c:\\users\\cocka\\anaconda3\\lib\\site-packages (from cffi>=1.0.1->argon2-cffi-bindings->argon2-cffi->jupyter-server<3,>=1.16.0->jupyterlab~=3.0->jupyterlab_github) (2.21)\n",
      "Installing collected packages: jupyterlab_github\n",
      "Successfully installed jupyterlab_github-3.0.1\n"
     ]
    }
   ],
   "source": [
    "!pip install jupyterlab_github"
   ]
  },
  {
   "cell_type": "code",
   "execution_count": 2,
   "id": "1e135b8c-cae4-4c9c-b61b-b01aaf922ce3",
   "metadata": {},
   "outputs": [],
   "source": [
    "from sklearn.model_selection import GridSearchCV\n",
    "from sklearn.tree import DecisionTreeClassifier\n",
    "from sklearn.datasets import load_iris\n"
   ]
  },
  {
   "cell_type": "code",
   "execution_count": 3,
   "id": "dbe84943-0f98-4a3d-ad36-52314b9bc75e",
   "metadata": {},
   "outputs": [],
   "source": [
    "#Load iris dataset\n",
    "iris = load_iris()"
   ]
  },
  {
   "cell_type": "code",
   "execution_count": 4,
   "id": "a059b525-6629-40eb-bf4f-64ae7838f52f",
   "metadata": {},
   "outputs": [],
   "source": [
    "x = iris.data\n",
    "y = iris.target"
   ]
  },
  {
   "cell_type": "code",
   "execution_count": 5,
   "id": "d57a2291-d87f-43c7-b7ca-c7e87da76372",
   "metadata": {},
   "outputs": [],
   "source": [
    "dtc = DecisionTreeClassifier()"
   ]
  },
  {
   "cell_type": "code",
   "execution_count": 6,
   "id": "3c086b8a-459f-42f4-a07a-c6766bc184d5",
   "metadata": {},
   "outputs": [],
   "source": [
    "#Defining the hyperparameters grid to search\n",
    "param_grid = {\n",
    "    'criterion' : ['gini','entropy'],\n",
    "    'max_depth' : [3,4,5,6],\n",
    "    'min_samples_split' : [2,3,4,5],\n",
    "    'min_samples_leaf' : [1,2,4]\n",
    "}"
   ]
  },
  {
   "cell_type": "code",
   "execution_count": 11,
   "id": "6d76b6fa-fb02-4d50-8e82-5aa491461032",
   "metadata": {},
   "outputs": [
    {
     "data": {
      "text/html": [
       "<style>#sk-container-id-2 {color: black;background-color: white;}#sk-container-id-2 pre{padding: 0;}#sk-container-id-2 div.sk-toggleable {background-color: white;}#sk-container-id-2 label.sk-toggleable__label {cursor: pointer;display: block;width: 100%;margin-bottom: 0;padding: 0.3em;box-sizing: border-box;text-align: center;}#sk-container-id-2 label.sk-toggleable__label-arrow:before {content: \"▸\";float: left;margin-right: 0.25em;color: #696969;}#sk-container-id-2 label.sk-toggleable__label-arrow:hover:before {color: black;}#sk-container-id-2 div.sk-estimator:hover label.sk-toggleable__label-arrow:before {color: black;}#sk-container-id-2 div.sk-toggleable__content {max-height: 0;max-width: 0;overflow: hidden;text-align: left;background-color: #f0f8ff;}#sk-container-id-2 div.sk-toggleable__content pre {margin: 0.2em;color: black;border-radius: 0.25em;background-color: #f0f8ff;}#sk-container-id-2 input.sk-toggleable__control:checked~div.sk-toggleable__content {max-height: 200px;max-width: 100%;overflow: auto;}#sk-container-id-2 input.sk-toggleable__control:checked~label.sk-toggleable__label-arrow:before {content: \"▾\";}#sk-container-id-2 div.sk-estimator input.sk-toggleable__control:checked~label.sk-toggleable__label {background-color: #d4ebff;}#sk-container-id-2 div.sk-label input.sk-toggleable__control:checked~label.sk-toggleable__label {background-color: #d4ebff;}#sk-container-id-2 input.sk-hidden--visually {border: 0;clip: rect(1px 1px 1px 1px);clip: rect(1px, 1px, 1px, 1px);height: 1px;margin: -1px;overflow: hidden;padding: 0;position: absolute;width: 1px;}#sk-container-id-2 div.sk-estimator {font-family: monospace;background-color: #f0f8ff;border: 1px dotted black;border-radius: 0.25em;box-sizing: border-box;margin-bottom: 0.5em;}#sk-container-id-2 div.sk-estimator:hover {background-color: #d4ebff;}#sk-container-id-2 div.sk-parallel-item::after {content: \"\";width: 100%;border-bottom: 1px solid gray;flex-grow: 1;}#sk-container-id-2 div.sk-label:hover label.sk-toggleable__label {background-color: #d4ebff;}#sk-container-id-2 div.sk-serial::before {content: \"\";position: absolute;border-left: 1px solid gray;box-sizing: border-box;top: 0;bottom: 0;left: 50%;z-index: 0;}#sk-container-id-2 div.sk-serial {display: flex;flex-direction: column;align-items: center;background-color: white;padding-right: 0.2em;padding-left: 0.2em;position: relative;}#sk-container-id-2 div.sk-item {position: relative;z-index: 1;}#sk-container-id-2 div.sk-parallel {display: flex;align-items: stretch;justify-content: center;background-color: white;position: relative;}#sk-container-id-2 div.sk-item::before, #sk-container-id-2 div.sk-parallel-item::before {content: \"\";position: absolute;border-left: 1px solid gray;box-sizing: border-box;top: 0;bottom: 0;left: 50%;z-index: -1;}#sk-container-id-2 div.sk-parallel-item {display: flex;flex-direction: column;z-index: 1;position: relative;background-color: white;}#sk-container-id-2 div.sk-parallel-item:first-child::after {align-self: flex-end;width: 50%;}#sk-container-id-2 div.sk-parallel-item:last-child::after {align-self: flex-start;width: 50%;}#sk-container-id-2 div.sk-parallel-item:only-child::after {width: 0;}#sk-container-id-2 div.sk-dashed-wrapped {border: 1px dashed gray;margin: 0 0.4em 0.5em 0.4em;box-sizing: border-box;padding-bottom: 0.4em;background-color: white;}#sk-container-id-2 div.sk-label label {font-family: monospace;font-weight: bold;display: inline-block;line-height: 1.2em;}#sk-container-id-2 div.sk-label-container {text-align: center;}#sk-container-id-2 div.sk-container {/* jupyter's `normalize.less` sets `[hidden] { display: none; }` but bootstrap.min.css set `[hidden] { display: none !important; }` so we also need the `!important` here to be able to override the default hidden behavior on the sphinx rendered scikit-learn.org. See: https://github.com/scikit-learn/scikit-learn/issues/21755 */display: inline-block !important;position: relative;}#sk-container-id-2 div.sk-text-repr-fallback {display: none;}</style><div id=\"sk-container-id-2\" class=\"sk-top-container\"><div class=\"sk-text-repr-fallback\"><pre>GridSearchCV(cv=5, estimator=DecisionTreeClassifier(),\n",
       "             param_grid={&#x27;criterion&#x27;: [&#x27;gini&#x27;, &#x27;entropy&#x27;],\n",
       "                         &#x27;max_depth&#x27;: [3, 4, 5, 6],\n",
       "                         &#x27;min_samples_leaf&#x27;: [1, 2, 4],\n",
       "                         &#x27;min_samples_split&#x27;: [2, 3, 4, 5]},\n",
       "             scoring=&#x27;accuracy&#x27;)</pre><b>In a Jupyter environment, please rerun this cell to show the HTML representation or trust the notebook. <br />On GitHub, the HTML representation is unable to render, please try loading this page with nbviewer.org.</b></div><div class=\"sk-container\" hidden><div class=\"sk-item sk-dashed-wrapped\"><div class=\"sk-label-container\"><div class=\"sk-label sk-toggleable\"><input class=\"sk-toggleable__control sk-hidden--visually\" id=\"sk-estimator-id-4\" type=\"checkbox\" ><label for=\"sk-estimator-id-4\" class=\"sk-toggleable__label sk-toggleable__label-arrow\">GridSearchCV</label><div class=\"sk-toggleable__content\"><pre>GridSearchCV(cv=5, estimator=DecisionTreeClassifier(),\n",
       "             param_grid={&#x27;criterion&#x27;: [&#x27;gini&#x27;, &#x27;entropy&#x27;],\n",
       "                         &#x27;max_depth&#x27;: [3, 4, 5, 6],\n",
       "                         &#x27;min_samples_leaf&#x27;: [1, 2, 4],\n",
       "                         &#x27;min_samples_split&#x27;: [2, 3, 4, 5]},\n",
       "             scoring=&#x27;accuracy&#x27;)</pre></div></div></div><div class=\"sk-parallel\"><div class=\"sk-parallel-item\"><div class=\"sk-item\"><div class=\"sk-label-container\"><div class=\"sk-label sk-toggleable\"><input class=\"sk-toggleable__control sk-hidden--visually\" id=\"sk-estimator-id-5\" type=\"checkbox\" ><label for=\"sk-estimator-id-5\" class=\"sk-toggleable__label sk-toggleable__label-arrow\">estimator: DecisionTreeClassifier</label><div class=\"sk-toggleable__content\"><pre>DecisionTreeClassifier()</pre></div></div></div><div class=\"sk-serial\"><div class=\"sk-item\"><div class=\"sk-estimator sk-toggleable\"><input class=\"sk-toggleable__control sk-hidden--visually\" id=\"sk-estimator-id-6\" type=\"checkbox\" ><label for=\"sk-estimator-id-6\" class=\"sk-toggleable__label sk-toggleable__label-arrow\">DecisionTreeClassifier</label><div class=\"sk-toggleable__content\"><pre>DecisionTreeClassifier()</pre></div></div></div></div></div></div></div></div></div></div>"
      ],
      "text/plain": [
       "GridSearchCV(cv=5, estimator=DecisionTreeClassifier(),\n",
       "             param_grid={'criterion': ['gini', 'entropy'],\n",
       "                         'max_depth': [3, 4, 5, 6],\n",
       "                         'min_samples_leaf': [1, 2, 4],\n",
       "                         'min_samples_split': [2, 3, 4, 5]},\n",
       "             scoring='accuracy')"
      ]
     },
     "execution_count": 11,
     "metadata": {},
     "output_type": "execute_result"
    }
   ],
   "source": [
    "grid_search = GridSearchCV(dtc,param_grid,cv=5,scoring = 'accuracy')\n",
    "grid_search.fit(x,y)"
   ]
  },
  {
   "cell_type": "code",
   "execution_count": 13,
   "id": "72e0dfe4-800d-4d5c-bd5b-b705bd5fb5af",
   "metadata": {},
   "outputs": [
    {
     "name": "stdout",
     "output_type": "stream",
     "text": [
      "Best Hyperparameter: {'criterion': 'gini', 'max_depth': 3, 'min_samples_leaf': 1, 'min_samples_split': 3}\n",
      "Best Accuracy score: 0.9733333333333334\n"
     ]
    }
   ],
   "source": [
    "print('Best Hyperparameter:',grid_search.best_params_)\n",
    "print('Best Accuracy score:',grid_search.best_score_)"
   ]
  },
  {
   "cell_type": "markdown",
   "id": "9b4df3a0-c10b-41c9-91af-f56d02059bc2",
   "metadata": {},
   "source": [
    "# why is it better than RandomSearchCV"
   ]
  },
  {
   "cell_type": "markdown",
   "id": "63c5ea55-4aae-4734-a7fc-228bb0b76dcb",
   "metadata": {},
   "source": [
    "For smaller values This is better\n",
    "But for larger values there are too many combinations of hyperparameters and hence RandomSearch is better"
   ]
  },
  {
   "cell_type": "markdown",
   "id": "1f4fbae1-9184-498c-8a2c-d4ffb7e2bb74",
   "metadata": {},
   "source": [
    "Do the same for RandomSearchCV import that model and press SHIFT+TAB to check for the iterations which defines how many times the particular random serach , searches\n"
   ]
  },
  {
   "cell_type": "code",
   "execution_count": 14,
   "id": "138ad52a-d408-4656-815a-7f983a3c6337",
   "metadata": {},
   "outputs": [],
   "source": [
    "#Complete the RandomSearchCV"
   ]
  },
  {
   "cell_type": "code",
   "execution_count": null,
   "id": "889b8a9e-cbad-46e7-ae9d-21da93765ddf",
   "metadata": {},
   "outputs": [],
   "source": []
  }
 ],
 "metadata": {
  "kernelspec": {
   "display_name": "Python 3 (ipykernel)",
   "language": "python",
   "name": "python3"
  },
  "language_info": {
   "codemirror_mode": {
    "name": "ipython",
    "version": 3
   },
   "file_extension": ".py",
   "mimetype": "text/x-python",
   "name": "python",
   "nbconvert_exporter": "python",
   "pygments_lexer": "ipython3",
   "version": "3.10.9"
  }
 },
 "nbformat": 4,
 "nbformat_minor": 5
}
