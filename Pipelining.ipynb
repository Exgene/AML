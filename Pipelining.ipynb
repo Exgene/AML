{
 "cells": [
  {
   "cell_type": "code",
   "execution_count": 1,
   "id": "9e353353-f430-41a5-bcab-2189c27e7a99",
   "metadata": {},
   "outputs": [
    {
     "data": {
      "text/plain": [
       "<150x10 sparse matrix of type '<class 'numpy.float64'>'\n",
       "\twith 121 stored elements in Compressed Sparse Row format>"
      ]
     },
     "execution_count": 1,
     "metadata": {},
     "output_type": "execute_result"
    }
   ],
   "source": [
    "from sklearn.pipeline import Pipeline\n",
    "from sklearn.preprocessing import StandardScaler, OneHotEncoder\n",
    "from sklearn.feature_selection import SelectKBest,f_classif\n",
    "\n",
    "pipeline = Pipeline([('scaler',StandardScaler()),\n",
    "                     ('encoder',OneHotEncoder()),\n",
    "                     ('selector',SelectKBest(score_func=f_classif))])\n",
    "\n",
    "from sklearn.datasets import load_iris\n",
    "iris = load_iris()\n",
    "x_train = iris.data\n",
    "y_train = iris.target\n",
    "\n",
    "pipeline.fit_transform(x_train,y_train)"
   ]
  },
  {
   "cell_type": "code",
   "execution_count": null,
   "id": "ba9fbed9-fd46-4025-a02d-60da65a9345f",
   "metadata": {},
   "outputs": [],
   "source": []
  }
 ],
 "metadata": {
  "kernelspec": {
   "display_name": "Python 3 (ipykernel)",
   "language": "python",
   "name": "python3"
  },
  "language_info": {
   "codemirror_mode": {
    "name": "ipython",
    "version": 3
   },
   "file_extension": ".py",
   "mimetype": "text/x-python",
   "name": "python",
   "nbconvert_exporter": "python",
   "pygments_lexer": "ipython3",
   "version": "3.10.9"
  }
 },
 "nbformat": 4,
 "nbformat_minor": 5
}
