{
 "cells": [
  {
   "cell_type": "code",
   "execution_count": 18,
   "id": "0ae3675b-941a-4dde-bd98-2293e79e7e95",
   "metadata": {},
   "outputs": [],
   "source": [
    "from sklearn.datasets import load_iris\n",
    "from sklearn.model_selection import train_test_split\n",
    "from sklearn.preprocessing import StandardScaler\n",
    "from sklearn.decomposition import PCA\n",
    "from sklearn.pipeline import Pipeline\n",
    "from sklearn.neighbors import KNeighborsClassifier\n",
    "import joblib #Lightweight Pipelines\n",
    "from sklearn.tree import DecisionTreeClassifier"
   ]
  },
  {
   "cell_type": "code",
   "execution_count": 19,
   "id": "229a39bb-d3fb-4415-bff9-1f831ffbe6e6",
   "metadata": {},
   "outputs": [],
   "source": [
    "df = load_iris()\n"
   ]
  },
  {
   "cell_type": "code",
   "execution_count": 20,
   "id": "e48f7819-5b13-4a36-93fb-be9e14ab9748",
   "metadata": {},
   "outputs": [],
   "source": [
    "x_train,x_test,y_train,y_test = train_test_split(df.data,df.target,test_size=0.2,random_state=42)"
   ]
  },
  {
   "cell_type": "code",
   "execution_count": 21,
   "id": "2ae0effd-b459-4634-8cc3-4a00920491d5",
   "metadata": {},
   "outputs": [],
   "source": [
    "#First Pipeline\n",
    "pp_knn = Pipeline([('scalar1',StandardScaler()),\n",
    "                   ('pca1',PCA(n_components=2)),\n",
    "                   ('knn_classifier',KNeighborsClassifier())])"
   ]
  },
  {
   "cell_type": "code",
   "execution_count": 36,
   "id": "7d9d5a0e-11e3-4ffa-ba99-d95238937d42",
   "metadata": {},
   "outputs": [],
   "source": [
    "pp_dcs =  Pipeline([('scalar2',StandardScaler()),\n",
    "                    ('pca2',PCA(n_components=2)),\n",
    "                    ('decision_tree',DecisionTreeClassifier(max_depth = 6))])"
   ]
  },
  {
   "cell_type": "code",
   "execution_count": 37,
   "id": "f3ccbfbb-b833-45f7-bb52-b504e34b79dc",
   "metadata": {},
   "outputs": [],
   "source": [
    "pipelines = [pp_knn,pp_dcs]"
   ]
  },
  {
   "cell_type": "code",
   "execution_count": 38,
   "id": "a5bf66dc-08ba-4f5d-8f97-e916d64e59a5",
   "metadata": {},
   "outputs": [],
   "source": [
    "best_accuracy = 0.0\n",
    "best_classifier = 0\n",
    "best_pipeline = \"\""
   ]
  },
  {
   "cell_type": "code",
   "execution_count": 39,
   "id": "90c414d1-bbbb-403e-baf7-ad0d8d41e425",
   "metadata": {},
   "outputs": [],
   "source": [
    "pipe_dict = {0:'KNN',1:'DecsionTree'}"
   ]
  },
  {
   "cell_type": "code",
   "execution_count": 40,
   "id": "f233a497-e909-4cf4-a0c8-c8fe4f2c00d2",
   "metadata": {},
   "outputs": [],
   "source": [
    "#Training the pipeline models:\n",
    "for pipe in pipelines:\n",
    "    pipe.fit(x_train,y_train)"
   ]
  },
  {
   "cell_type": "code",
   "execution_count": 41,
   "id": "d1c84e9e-7c1e-48ca-8ad2-1dff979ec6f9",
   "metadata": {},
   "outputs": [
    {
     "name": "stdout",
     "output_type": "stream",
     "text": [
      "KNN Test Accuracy : 0.9333333333333333\n",
      "DecsionTree Test Accuracy : 0.9333333333333333\n"
     ]
    }
   ],
   "source": [
    "for i,model in enumerate(pipelines):\n",
    "    print(\"{} Test Accuracy : {}\".format(pipe_dict[i],model.score(x_test,y_test)))"
   ]
  },
  {
   "cell_type": "code",
   "execution_count": null,
   "id": "622c0407-e870-4d2d-8c5c-9b4901a0d5ea",
   "metadata": {},
   "outputs": [],
   "source": []
  },
  {
   "cell_type": "code",
   "execution_count": null,
   "id": "1029f0f0-388f-4f0f-ad8c-3c4d5ae77b15",
   "metadata": {},
   "outputs": [],
   "source": []
  }
 ],
 "metadata": {
  "kernelspec": {
   "display_name": "Python 3 (ipykernel)",
   "language": "python",
   "name": "python3"
  },
  "language_info": {
   "codemirror_mode": {
    "name": "ipython",
    "version": 3
   },
   "file_extension": ".py",
   "mimetype": "text/x-python",
   "name": "python",
   "nbconvert_exporter": "python",
   "pygments_lexer": "ipython3",
   "version": "3.9.16"
  }
 },
 "nbformat": 4,
 "nbformat_minor": 5
}
