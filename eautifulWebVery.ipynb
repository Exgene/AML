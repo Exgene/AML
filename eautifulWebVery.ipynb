{
 "cells": [
  {
   "cell_type": "code",
   "execution_count": 2,
   "id": "26b7abc0-564a-4874-88ac-227629a303fd",
   "metadata": {},
   "outputs": [],
   "source": [
    "from bs4 import BeautifulSoup\n",
    "html_content = ''' \n",
    "<html>\n",
    "<head>\n",
    "<title>Example</title>\n",
    "</head> \n",
    "<body>\n",
    "<p class = 'paragraph'> This is a paragraph.</p>\n",
    "<p class = 'paragraph'> This is a paragraph 2.</p>\n",
    "<ul> \n",
    "<li> Item 1 </li>\n",
    "<li> Item 2 </li> \n",
    "</ul>\n",
    "</body> \n",
    "</html> \n",
    "'''\n",
    "\n",
    "soup = BeautifulSoup(html_content,'html.parser')"
   ]
  },
  {
   "cell_type": "code",
   "execution_count": 3,
   "id": "8a582e4f-3478-40f5-bf3c-cb1e6adb94d3",
   "metadata": {},
   "outputs": [
    {
     "data": {
      "text/plain": [
       "'Example'"
      ]
     },
     "execution_count": 3,
     "metadata": {},
     "output_type": "execute_result"
    }
   ],
   "source": [
    "title = soup.title.text\n",
    "title"
   ]
  },
  {
   "cell_type": "code",
   "execution_count": 5,
   "id": "b0932e11-cbd2-4a05-a4d5-0dba3c750978",
   "metadata": {},
   "outputs": [
    {
     "data": {
      "text/plain": [
       "' THis is a paragraph.'"
      ]
     },
     "execution_count": 5,
     "metadata": {},
     "output_type": "execute_result"
    }
   ],
   "source": [
    "para = soup.p\n",
    "para.text"
   ]
  },
  {
   "cell_type": "code",
   "execution_count": 6,
   "id": "19fe1ac0-40b1-4404-9d98-b168a37b99b0",
   "metadata": {},
   "outputs": [],
   "source": [
    "para_all = soup.find_all(\"p\")"
   ]
  },
  {
   "cell_type": "code",
   "execution_count": 9,
   "id": "5c64809a-59f2-4bc3-9128-ceebaad2faa1",
   "metadata": {},
   "outputs": [
    {
     "name": "stdout",
     "output_type": "stream",
     "text": [
      " THis is a paragraph.\n",
      " THis is a paragraph 2.\n"
     ]
    }
   ],
   "source": [
    "for i in para_all:\n",
    "    print(i.text)"
   ]
  },
  {
   "cell_type": "markdown",
   "id": "c0b58a4d-4129-4ac9-bf5b-efc1ec6f617c",
   "metadata": {},
   "source": [
    "# Tag Navigation\n"
   ]
  },
  {
   "cell_type": "code",
   "execution_count": 10,
   "id": "297f07ff-08c8-4171-b85e-79b99a64e258",
   "metadata": {},
   "outputs": [
    {
     "data": {
      "text/plain": [
       "<p class=\"paragraph\"> THis is a paragraph.</p>"
      ]
     },
     "execution_count": 10,
     "metadata": {},
     "output_type": "execute_result"
    }
   ],
   "source": [
    "para = soup.find('p')\n",
    "para"
   ]
  },
  {
   "cell_type": "code",
   "execution_count": 12,
   "id": "370668b1-c7e2-46ed-aea1-2391817952c3",
   "metadata": {},
   "outputs": [
    {
     "name": "stdout",
     "output_type": "stream",
     "text": [
      " THis is a paragraph.\n",
      " THis is a paragraph 2.\n"
     ]
    }
   ],
   "source": [
    "para = soup.find_all('p')\n",
    "for i in para_all:\n",
    "    print(i.text)"
   ]
  },
  {
   "cell_type": "code",
   "execution_count": 13,
   "id": "8e5f978d-9d31-43fb-97e7-94f6efb58ef4",
   "metadata": {},
   "outputs": [],
   "source": [
    "from bs4 import BeautifulSoup\n",
    "html_doc = '''\n",
    "<html>\n",
    "<body>\n",
    "    <div class='my_class'>\n",
    "        <h1> Welome to BeuatifulSoup </h1>\n",
    "        <p>This is an example Paragraph. </p>\n",
    "        <ul>\n",
    "            <li>Item1</li>\n",
    "            <li>Item2</li>\n",
    "            <li>Item3</li>\n",
    "        </ul>\n",
    "    </div>\n",
    "</body>\n",
    "</html> \n",
    "'''\n",
    "\n",
    "soup = BeautifulSoup(html_doc,'html.parser')"
   ]
  },
  {
   "cell_type": "code",
   "execution_count": 17,
   "id": "850c2112-85da-406c-8fa2-11c0b0fd0703",
   "metadata": {},
   "outputs": [
    {
     "name": "stdout",
     "output_type": "stream",
     "text": [
      "<div class=\"my_class\">\n",
      "<h1> Welome to BeuatifulSoup </h1>\n",
      "<p>This is an example Paragraph. </p>\n",
      "<ul>\n",
      "<li>Item1</li>\n",
      "<li>Item2</li>\n",
      "<li>Item3</li>\n",
      "</ul>\n",
      "</div>\n"
     ]
    }
   ],
   "source": [
    "#Parent\n",
    "h1 = soup.h1\n",
    "parent_div = h1.parent\n",
    "print(parent_div)"
   ]
  },
  {
   "cell_type": "code",
   "execution_count": 18,
   "id": "4e80f7c0-4d65-4855-a4ff-a81ca10ef41f",
   "metadata": {},
   "outputs": [
    {
     "name": "stdout",
     "output_type": "stream",
     "text": [
      "<h1> Welome to BeuatifulSoup </h1>\n"
     ]
    }
   ],
   "source": [
    "#Previous Sibling\n",
    "para = soup.p\n",
    "prev_sibling = para.find_previous_sibling()\n",
    "print(prev_sibling)"
   ]
  },
  {
   "cell_type": "code",
   "execution_count": 19,
   "id": "5138c7fb-0d29-46ba-b05d-404dcf2ced5c",
   "metadata": {},
   "outputs": [
    {
     "name": "stdout",
     "output_type": "stream",
     "text": [
      "None\n"
     ]
    }
   ],
   "source": [
    "#Next Sibling\n",
    "ul = soup.ul\n",
    "next_sibling = ul.find_next_sibling()\n",
    "print(next_sibling)"
   ]
  },
  {
   "cell_type": "markdown",
   "id": "29fe6d68-46b9-41ad-b25a-d3e56bdd320c",
   "metadata": {},
   "source": [
    "# Child Navigator"
   ]
  },
  {
   "cell_type": "code",
   "execution_count": 20,
   "id": "cac1a476-3657-46a2-a11c-5b5d57b2ae92",
   "metadata": {},
   "outputs": [
    {
     "name": "stdout",
     "output_type": "stream",
     "text": [
      "\n",
      "\n",
      "<h1> Welome to BeuatifulSoup </h1>\n",
      "\n",
      "\n",
      "<p>This is an example Paragraph. </p>\n",
      "\n",
      "\n",
      "<ul>\n",
      "<li>Item1</li>\n",
      "<li>Item2</li>\n",
      "<li>Item3</li>\n",
      "</ul>\n",
      "\n",
      "\n"
     ]
    }
   ],
   "source": [
    "div = soup.div\n",
    "children = div.children\n",
    "\n",
    "for child in children:\n",
    "        print(child)"
   ]
  },
  {
   "cell_type": "code",
   "execution_count": 21,
   "id": "1187a27f-dc5f-41ed-a20f-5c0657572222",
   "metadata": {},
   "outputs": [
    {
     "data": {
      "text/plain": [
       "[<div class=\"my_class\">\n",
       " <h1> Welome to BeuatifulSoup </h1>\n",
       " <p>This is an example Paragraph. </p>\n",
       " <ul>\n",
       " <li>Item1</li>\n",
       " <li>Item2</li>\n",
       " <li>Item3</li>\n",
       " </ul>\n",
       " </div>]"
      ]
     },
     "execution_count": 21,
     "metadata": {},
     "output_type": "execute_result"
    }
   ],
   "source": [
    "elements = soup.find_all('div',class_='my_class')\n",
    "elements"
   ]
  },
  {
   "cell_type": "code",
   "execution_count": null,
   "id": "42fd81d3-158b-40e7-8e15-5bf19795cd24",
   "metadata": {},
   "outputs": [],
   "source": []
  }
 ],
 "metadata": {
  "kernelspec": {
   "display_name": "Python 3 (ipykernel)",
   "language": "python",
   "name": "python3"
  },
  "language_info": {
   "codemirror_mode": {
    "name": "ipython",
    "version": 3
   },
   "file_extension": ".py",
   "mimetype": "text/x-python",
   "name": "python",
   "nbconvert_exporter": "python",
   "pygments_lexer": "ipython3",
   "version": "3.9.16"
  }
 },
 "nbformat": 4,
 "nbformat_minor": 5
}
